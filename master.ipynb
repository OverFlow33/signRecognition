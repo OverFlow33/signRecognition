{
 "cells": [
  {
   "cell_type": "code",
   "execution_count": 22,
   "metadata": {
    "collapsed": true,
    "pycharm": {
     "is_executing": false
    }
   },
   "outputs": [
    {
     "name": "stdout",
     "text": [
      "import successfully completed\n"
     ],
     "output_type": "stream"
    }
   ],
   "source": [
    "import numpy as np\n",
    "import matplotlib.pyplot as plt\n",
    "import keras\n",
    "from keras.layers import Dense, Dropout, Flatten\n",
    "from keras.layers.convolutional import Conv2D, MaxPooling2D\n",
    "from keras.models import Sequential\n",
    "from keras.optimizers import Adam\n",
    "from keras.utils.np_utils import to_categorical\n",
    "from keras.callbacks import LearningRateScheduler, ModelCheckpoint\n",
    "import random\n",
    "from PIL import Image\n",
    "from PIL import ImageOps\n",
    "import os\n",
    "import pandas as pd\n",
    "import cv2\n",
    "\n",
    "pd.options.mode.chained_assignment = None\n",
    "%matplotlib inline\n",
    "np.random.seed(1234)\n",
    "print('import successfully completed')"
   ]
  },
  {
   "cell_type": "code",
   "execution_count": 23,
   "outputs": [
    {
     "name": "stdout",
     "text": [
      "(39209,)\n",
      "(12630,)\n"
     ],
     "output_type": "stream"
    }
   ],
   "source": [
    "testdata = pd.read_csv('traffic-sign/Test.csv')\n",
    "traindata = pd.read_csv('traffic-sign/Train.csv')\n",
    "\n",
    "fTrain, yTrain = traindata['Path'], traindata['ClassId']\n",
    "fTest, yTest = testdata['Path'], testdata['ClassId']\n",
    "\n",
    "print(fTrain.shape)\n",
    "print(fTest.shape)"
   ],
   "metadata": {
    "collapsed": false,
    "pycharm": {
     "name": "#%%\n",
     "is_executing": false
    }
   }
  },
  {
   "cell_type": "code",
   "execution_count": 24,
   "outputs": [
    {
     "name": "stdout",
     "text": [
      "methods declaration section 2\n"
     ],
     "output_type": "stream"
    }
   ],
   "source": [
    "def init(img):\n",
    "    img = cv2.resize(img, (32, 32))\n",
    "    img = cv2.cvtColor(img, cv2.COLOR_BGR2GRAY)\n",
    "    img = cv2.equalizeHist(img)\n",
    "    img = img/255\n",
    "    return img\n",
    "print('methods declaration section 2')"
   ],
   "metadata": {
    "collapsed": false,
    "pycharm": {
     "name": "#%%\n",
     "is_executing": false
    }
   }
  },
  {
   "cell_type": "code",
   "execution_count": 25,
   "outputs": [
    {
     "name": "stdout",
     "text": [
      "(39209, 32, 32)\n"
     ],
     "output_type": "stream"
    }
   ],
   "source": [
    "data=[]\n",
    "labels=[]\n",
    "\n",
    "for i in range(fTrain.size) :\n",
    "    image = cv2.imread('traffic-sign/' + fTrain[i])\n",
    "    inited = init(image)\n",
    "    # image_from_array = Image.fromarray(gray, '1')\n",
    "    # size_image = image_from_array.resize((32, 32))    \n",
    "    data.append(np.array(inited))\n",
    "    labels.append(i)\n",
    "\n",
    "Cells=np.array(data)\n",
    "labels=np.array(labels)\n",
    "\n",
    "s=np.arange(Cells.shape[0])\n",
    "np.random.shuffle(s)\n",
    "Cells=Cells[s]\n",
    "labels=labels[s]\n",
    "print(Cells.shape)"
   ],
   "metadata": {
    "collapsed": false,
    "pycharm": {
     "name": "#%%\n",
     "is_executing": false
    }
   }
  },
  {
   "cell_type": "code",
   "execution_count": 26,
   "outputs": [
    {
     "name": "stdout",
     "text": [
      "(31368, 32, 32)\n",
      "(7841, 32, 32)\n",
      "(31368,)\n"
     ],
     "output_type": "stream"
    }
   ],
   "source": [
    "(X_train,X_val)=Cells[(int)(0.2*len(labels)):],Cells[:(int)(0.2*len(labels))]\n",
    "# X_train = X_train.astype('float32')/255 \n",
    "# X_val = X_val.astype('float32')/255\n",
    "(y_train,y_val)=labels[(int)(0.2*len(labels)):],labels[:(int)(0.2*len(labels))]\n",
    "print(X_train.shape)\n",
    "print(X_val.shape)\n",
    "print(y_train.shape)"
   ],
   "metadata": {
    "collapsed": false,
    "pycharm": {
     "name": "#%%\n",
     "is_executing": false
    }
   }
  },
  {
   "cell_type": "code",
   "execution_count": 27,
   "outputs": [
    {
     "name": "stdout",
     "text": [
      "assertion true\n"
     ],
     "output_type": "stream"
    }
   ],
   "source": [
    "assert(X_train.shape[0] == y_train.shape[0]), \"The number of images is not equal to the number of labels.\"\n",
    "assert(X_train[0].shape == (32,32)), \"The dimensions of the images are not 32 x 32 x 3.\"\n",
    "print('assertion true') "
   ],
   "metadata": {
    "collapsed": false,
    "pycharm": {
     "name": "#%%\n",
     "is_executing": false
    }
   }
  },
  {
   "cell_type": "code",
   "execution_count": 29,
   "outputs": [
    {
     "data": {
      "text/plain": "(-0.5, 31.5, 31.5, -0.5)"
     },
     "metadata": {},
     "output_type": "execute_result",
     "execution_count": 29
    },
    {
     "data": {
      "text/plain": "<Figure size 432x288 with 1 Axes>",
      "image/png": "[encoded data removed]"
     },
     "metadata": {
      "needs_background": "light"
     },
     "output_type": "display_data"
    }
   ],
   "source": [
    "plt.imshow(X_train [9009], cmap=\"gray\")\n",
    "plt.axis('off')\n",
    "\n"
   ],
   "metadata": {
    "collapsed": false,
    "pycharm": {
     "name": "#%%\n",
     "is_executing": false
    }
   }
  },
  {
   "cell_type": "code",
   "execution_count": 30,
   "outputs": [
    {
     "name": "stdout",
     "text": [
      "(12630, 32, 32)\n",
      "(12630,)\n"
     ],
     "output_type": "stream"
    }
   ],
   "source": [
    "testdata=[]\n",
    "testlabels=[]\n",
    "\n",
    "for i in range(fTest.size) :\n",
    "    image = cv2.imread('traffic-sign/' + fTest[i])\n",
    "    inited = init(image)\n",
    "    testdata.append(np.array(inited))\n",
    "    testlabels.append(i)\n",
    "\n",
    "y_test = np.array(testlabels)\n",
    "X_test = np.array(testdata)\n",
    "\n",
    "print(X_test.shape)\n",
    "print(y_test.shape)"
   ],
   "metadata": {
    "collapsed": false,
    "pycharm": {
     "name": "#%%\n",
     "is_executing": false
    }
   }
  },
  {
   "cell_type": "code",
   "execution_count": 34,
   "outputs": [
    {
     "name": "stdout",
     "text": [
      "assertion true\n"
     ],
     "output_type": "stream"
    }
   ],
   "source": [
    "assert(y_test.shape[0] == X_test.shape[0]), \"The number of images is not equal to the number of labels.\"\n",
    "assert(X_test[0].shape == (32,32)), \"The dimensions of the images are not 32 x 32 x 3.\"\n",
    "print('assertion true')"
   ],
   "metadata": {
    "collapsed": false,
    "pycharm": {
     "name": "#%%\n",
     "is_executing": false
    }
   }
  },
  {
   "cell_type": "code",
   "execution_count": 35,
   "outputs": [
    {
     "data": {
      "text/plain": "(-0.5, 31.5, 31.5, -0.5)"
     },
     "metadata": {},
     "output_type": "execute_result",
     "execution_count": 35
    },
    {
     "data": {
      "text/plain": "<Figure size 432x288 with 1 Axes>",
      "image/png": "[encoded data removed]"
     },
     "metadata": {
      "needs_background": "light"
     },
     "output_type": "display_data"
    }
   ],
   "source": [
    "# xTest = []\n",
    "# for i in range(X_test.size):\n",
    "#     yTrain.apped(init(y_test[i]))\n",
    "plt.imshow(X_test [67], cmap=\"gray\")\n",
    "plt.axis('off')\n"
   ],
   "metadata": {
    "collapsed": false,
    "pycharm": {
     "name": "#%%\n",
     "is_executing": false
    }
   }
  }
 ],
 "metadata": {
  "kernelspec": {
   "display_name": "Python 3",
   "language": "python",
   "name": "python3"
  },
  "language_info": {
   "codemirror_mode": {
    "name": "ipython",
    "version": 2
   },
   "file_extension": ".py",
   "mimetype": "text/x-python",
   "name": "python",
   "nbconvert_exporter": "python",
   "pygments_lexer": "ipython2",
   "version": "2.7.6"
  },
  "pycharm": {
   "stem_cell": {
    "cell_type": "raw",
    "source": [],
    "metadata": {
     "collapsed": false
    }
   }
  }
 },
 "nbformat": 4,
 "nbformat_minor": 0
}